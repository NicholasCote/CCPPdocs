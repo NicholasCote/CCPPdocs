{
 "cells": [
  {
   "attachments": {},
   "cell_type": "markdown",
   "metadata": {},
   "source": [
    "# VS Code integration"
   ]
  },
  {
   "attachments": {},
   "cell_type": "markdown",
   "metadata": {},
   "source": [
    "## Overview\n",
    "[Visual Studio Code](https://code.visualstudio.com/) (VS Code) is a free open source code editor from Microsoft that runs on Windows, Linux, and MacOS. It has a wide variety of capabilities and extensions available that make it very powerful software development tool. One of the extensions that can be installed is the [Jupyter Extension](https://marketplace.visualstudio.com/items?itemName=ms-toolsai.jupyter). This documentation will go over how to install the extension and configure VS Code to run on your local machine, while creating and executing the content on a remote JupyterHub system. "
   ]
  },
  {
   "attachments": {},
   "cell_type": "markdown",
   "metadata": {},
   "source": [
    "## Install Jupyter VS Code Extension\n",
    "Open VS Code if it isn't already open. On the left side there's a number of icons. The following icon is for Extensions and Extension management.\n",
    "\n",
    "<img src=\"../../_static/vs-code-extension.png\" width=\"300\" />\n"
   ]
  },
  {
   "attachments": {},
   "cell_type": "markdown",
   "metadata": {},
   "source": [
    "Once the Extensions panel is open there is a search bar at the top. Use this to search for and open the Jupyter Extension, make sure it is the version created by Microsoft. From here the Jupyter extension can be installed from the blue Install button found in the Extension panel or the Extension: Jupyter pane that is opened after clicking the extension in the pane as seen below\n",
    "\n",
    "<img src=\"../../_static/jupyter-extension.png\" />\n",
    "\n",
    "The extension should now be installed. Typically a restart of VS Code is not required to start using it. "
   ]
  },
  {
   "attachments": {},
   "cell_type": "markdown",
   "metadata": {},
   "source": [
    "## Create a Jupyter Hub API token\n",
    "\n",
    "In order to properly authenticate VS Code with Jupyter Hub an API token is required. The easiest way to create an API token is by directing the browser to the `/hub/token` endpoint. In the following example the full URL is `https://jupyter.k8s.ucar.edu/hub/token`.\n",
    "\n",
    "<img src=\"../../_static/jh-api-token.png\" />\n",
    "\n",
    "Fill in a descriptive note so you can keep track of where the token is being used. It's suggested to use an expiration date on the API token for security reasons. If your personal token was exposed some how it would only be viable for a short amount of time. If you know your personal token has been exposed and is no longer secure you can also revoke the token through this menu as well.\n",
    "\n",
    "Click on the `Request new API token` button and the site will display the new token underneath the input fields. ***Copy the token and keep is someplace secure.*** Once this page is closed there is no way to view the token again. At that point the best option would be to create a new token and update any applications that are currently using it. "
   ]
  },
  {
   "attachments": {},
   "cell_type": "markdown",
   "metadata": {},
   "source": [
    "## Connect VS Code to JupyterHub\n",
    "\n",
    "With the JupyterHub URL and API token all the information required to configure the VS Code extension has been gathered. Open VS Code if it's not already open and press `Ctrl+Shift+P`, `Cmd+Shift+P` on Mac, to open the command palette."
   ]
  }
 ],
 "metadata": {
  "kernelspec": {
   "display_name": "Python 3 (ipykernel)",
   "language": "python",
   "name": "python3"
  },
  "orig_nbformat": 4
 },
 "nbformat": 4,
 "nbformat_minor": 2
}
