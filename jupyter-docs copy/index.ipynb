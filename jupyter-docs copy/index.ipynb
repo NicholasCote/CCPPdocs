{
 "cells": [
  {
   "attachments": {},
   "cell_type": "markdown",
   "metadata": {},
   "source": [
    "<center style=\"font-size: 2.5rem;font-weight: 700;text-decoration: underline;\">This site is in ACTIVE DEVELOPMENT</center>"
   ]
  },
  {
   "attachments": {},
   "cell_type": "markdown",
   "metadata": {},
   "source": [
    "# CISL Cloud Pilot\n",
    "***This is currently a Pilot project with an objective to determine long-term feasibility.***<hr>\n",
    "Welcome to the NCAR | CISL Cloud Pilot documentation page. Below is a collection of useful information and links to help utilize resources provided by NCAR for interactive scientific analysis.\n",
    "\n",
    "\n",
    "## Resources\n",
    "\n",
    "### NCAR JupyterHub\n",
    "\n",
    "NCAR operates a JupyterHub instance on Kubernetes. The main documentation page for this service can be found [here](how-to/k8sJH/k8sJH-intro)\n",
    "\n",
    "A link to the NCAR JupyterHub can always be found on this documentation page under the Resources tab at the top. It can also be found below:\n",
    "\n",
    "[Login to NCAR JupyterHub](https://jupyter.k8s.ucar.edu/)\n",
    "\n",
    "```{note}\n",
    "Access is currently granted to members of the [NCAR/2i2c-cloud-users](https://github.com/orgs/NCAR/teams/2i2c-cloud-users) Github Team. If you require access please follow these [instructions](how-to/k8sJH/access)\n",
    "```\n",
    "\n",
    "### NCAR Rancher\n",
    "\n",
    "NCAR operates an instance of Rancher to provide a container management platform to the community. The main documentation page for this service can be found [here](how-to/Rancher/rancher-intro)\n",
    "\n",
    "A link to the NCAR Rancher instance can always be found on this documentation page under the Resources tab at the top. It can also be found below:\n",
    "\n",
    "[Login to NCAR Rancher](https://rancher.k8s.ucar.edu/)\n",
    "\n",
    "```{note}\n",
    "[Rancher](https://www.rancher.com/) is an open source container management platform built for organizations that deploy containers in production. \n",
    "```\n",
    "\n",
    "### 2i2c JupyterHub\n",
    "\n",
    "2i2c operates a JupyterHub instance for NCAR use on AWS. The main documentation page for this service can be found [here](how-to/2i2cJH/2i2cJH-intro)\n",
    "\n",
    "A link to the 2i2c JupyterHub can always be found on this documentation page under the Resources tab at the top. It can also be found below:\n",
    "\n",
    "[Login to 2i2c JupyterHub](https://jupyter.k8s.ucar.edu/)\n",
    "\n",
    "```{note}\n",
    "Access is currently granted to members of the [NCAR/2i2c-cloud-users](https://github.com/orgs/NCAR/teams/2i2c-cloud-users) Github Team. If you require access please follow these [instructions](how-to/2i2cJH/access)\n",
    "```\n",
    "\n",
    "## Vision\n",
    "*Provide and operate an on-premise cloud offering for the scientific community to supplement traditional HPC services and public cloud offerings while utilizing 2i2c to host a JupyterHub instance in the public cloud.*\n",
    "\n",
    "### What is an on-premise cloud? \n",
    "NCAR | CISL runs Compute, Storage & Network hardware in robust Data Centers at multiple organizational facilities. An on-premise cloud is offering users the ability to utilize those highly available organizationally supported compute resources for approved use cases. This includes access to routable network space and UCAR Domain Name Systems (DNS). Security standards set by the organization are implemented and controlled by administrators to make sure internal policies are being adhered to. These resources would be provided to supplement computing needs that aren't fulfilled by the HPC offering, public cloud, or what is available to you locally. "
   ]
  }
 ],
 "metadata": {
  "kernelspec": {
   "display_name": "Python 3",
   "language": "python",
   "name": "python3"
  },
  "language_info": {
   "codemirror_mode": {
    "name": "ipython",
    "version": 3
   },
   "file_extension": ".py",
   "mimetype": "text/x-python",
   "name": "python",
   "nbconvert_exporter": "python",
   "pygments_lexer": "ipython3",
   "version": "3.10.6"
  },
  "orig_nbformat": 4
 },
 "nbformat": 4,
 "nbformat_minor": 2
}
