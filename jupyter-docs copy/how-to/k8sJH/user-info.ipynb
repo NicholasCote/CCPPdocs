{
 "cells": [
  {
   "attachments": {},
   "cell_type": "markdown",
   "metadata": {},
   "source": [
    "# User Information"
   ]
  },
  {
   "attachments": {},
   "cell_type": "markdown",
   "metadata": {},
   "source": [
    "Once logged in to the JupyterHub there are a few details that will make it easier to navigate and understand how to utilize what is offered. "
   ]
  },
  {
   "attachments": {},
   "cell_type": "markdown",
   "metadata": {},
   "source": [
    "## Server Options\n",
    "\n",
    "Once logged in the first page displayed is titled `Server Options` and is also known as the spawn page. It's from here where the desired environment is selected and spun up for the user. There's a number of different options for different resources available. Right now this menu is still in development but currently looks like the following:\n",
    "\n",
    "<img src=\"_static/jhub-spawn.png\"/>\n",
    "\n",
    "The small, medium, and large sizes currently utilize the Pangeo [pangeo-notebook](https://github.com/pangeo-data/pangeo-docker-images/tree/master/pangeo-notebook) docker image. The Test NCAR Custom image is built and maintained by the CCPP team. It is currently still in development and testing. The goal is to make this the primary image for the environment. The following discussion will be based on what is offered in the Test NCAR Custom image. \n",
    "\n",
    "* Note: Right now there is no GPU image. We will provide a GPU image and are currently working towards configuring and implementing a solution."
   ]
  },
  {
   "attachments": {},
   "cell_type": "markdown",
   "metadata": {},
   "source": [
    "## User Environment\n",
    "\n",
    "* The following is based on what is offered as part of the Test NCAR Custom image\n",
    "\n",
    "Once logged in the default start up page for everyone will look like this:\n",
    "\n",
    "<img src=\"_static/jhub-main.png\"/>\n",
    "\n",
    "* Note: Image from local. Update\n"
   ]
  }
 ],
 "metadata": {
  "language_info": {
   "name": "python"
  },
  "orig_nbformat": 4
 },
 "nbformat": 4,
 "nbformat_minor": 2
}
