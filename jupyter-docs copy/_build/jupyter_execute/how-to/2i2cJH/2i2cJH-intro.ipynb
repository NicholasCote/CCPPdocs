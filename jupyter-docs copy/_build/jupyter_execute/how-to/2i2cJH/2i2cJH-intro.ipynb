{
 "cells": [
  {
   "attachments": {},
   "cell_type": "markdown",
   "metadata": {},
   "source": [
    "# Using the 2i2c JupyterHub"
   ]
  },
  {
   "attachments": {},
   "cell_type": "markdown",
   "metadata": {},
   "source": [
    "## Overview\n",
    "\n",
    "2i2c runs a JupyterHub instance for NCAR that's hosted on AWS"
   ]
  },
  {
   "attachments": {},
   "cell_type": "markdown",
   "metadata": {},
   "source": [
    "## Access\n",
    "The [JupyterHub Login](https://ncar-cisl.2i2c.cloud/) page is the portal to enter and spin up a personal and persistent Jupyter environment. \n",
    "\n",
    "Authentication is being handled via GitHub and access is given to members of the following NCAR [team](https://github.com/orgs/NCAR/teams/2i2c-cloud-users). If you do not currently have access you can request to join the GitHub team. Please provide valid justification for your use case. A member of the team will process the request and will be in contact to confirm or coordinate your access."
   ]
  }
 ],
 "metadata": {
  "language_info": {
   "name": "python"
  }
 },
 "nbformat": 4,
 "nbformat_minor": 2
}