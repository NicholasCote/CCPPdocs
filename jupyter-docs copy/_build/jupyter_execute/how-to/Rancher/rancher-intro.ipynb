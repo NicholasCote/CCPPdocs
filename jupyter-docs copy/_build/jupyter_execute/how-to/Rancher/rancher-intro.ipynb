{
 "cells": [
  {
   "attachments": {},
   "cell_type": "markdown",
   "metadata": {},
   "source": [
    "# Rancher\n",
    "\n",
    "[Rancher](https://www.rancher.com/) is an open source container management platform built for organizations that deploy containers in production. "
   ]
  }
 ],
 "metadata": {
  "language_info": {
   "name": "python"
  }
 },
 "nbformat": 4,
 "nbformat_minor": 2
}