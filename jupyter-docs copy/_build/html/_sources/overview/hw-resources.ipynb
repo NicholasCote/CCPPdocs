{
 "cells": [
  {
   "cell_type": "markdown",
   "metadata": {},
   "source": [
    "# Hardware Resources\n",
    "\n",
    "## Initial Resources (5/1/23)\n",
    "\n",
    "### Compute Resources (5 Nodes)\n",
    "\n",
    "| System Information | Node Specifications |\n",
    "|---|---|\n",
    "| Manufacturer | Supermicro |\n",
    "| Model | SYS-120U-TNR | \n",
    "| CPU Type | Intel Xeon Gold 6326 |\n",
    "| CPU Speed | 2.90 GHz |\n",
    "| CPU Cores | 16 | \n",
    "| RAM (GB) | 512 |\n",
    "| GPU Model | Nvidia A2 Tensor |\n",
    "| GPU Cores | 1280 |\n",
    "| GPU Memory | 16 GB |\n",
    "| NICs | 2x10G & 4x25G |\n",
    "| Storage | 2x100GB & 6x1.6TB NVMe |     \n",
    "\n",
    "#### Totals\n",
    "\n",
    "| CPU Cores | RAM | GPU Cores | GPU Mem | Local Storage |\n",
    "|---|---|---|---|---|\n",
    "| 80 | 2.5 TB | 6400 | 80 GB | 48 TB|\n",
    "\n",
    "### Storage Resources\n",
    "\n",
    "| STRATUS | GLADE (RO) | NFS | LOCAL | \n",
    "|---|---|----|---|\n",
    "| 3.3 PB | 38 PB | 110 TB | 48 TB |\n",
    "\n",
    "### Network Resources"
   ]
  }
 ],
 "metadata": {
  "language_info": {
   "name": "python"
  },
  "orig_nbformat": 4
 },
 "nbformat": 4,
 "nbformat_minor": 2
}
