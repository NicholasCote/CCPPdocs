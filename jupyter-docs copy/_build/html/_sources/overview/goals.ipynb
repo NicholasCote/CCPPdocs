{
 "cells": [
  {
   "attachments": {},
   "cell_type": "markdown",
   "metadata": {},
   "source": [
    "# Goals\n",
    "* Improve understanding of how scientific community might use and benefit from an on-prem cloud\n",
    "    * Which services fit on-prem better than traditional HPC and/or public cloud\n",
    "* Gain experience within CISL deploying and operating an on-prem cloud and associated services\n",
    "* Improve CISL ability to support interactive analysis workflows in environment where data is globally distributed\n",
    "* Increase user visibility in to on-prem cloud offerings\n",
    "* Develop metrics to showcase project value & feasibility\n",
    "* Gain experience with Agile Project Management"
   ]
  }
 ],
 "metadata": {
  "language_info": {
   "name": "python"
  },
  "orig_nbformat": 4
 },
 "nbformat": 4,
 "nbformat_minor": 2
}
