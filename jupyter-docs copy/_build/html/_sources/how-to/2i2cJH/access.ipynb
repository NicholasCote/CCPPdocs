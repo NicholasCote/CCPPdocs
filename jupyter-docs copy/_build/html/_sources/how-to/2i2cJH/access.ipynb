{
 "cells": [
  {
   "attachments": {},
   "cell_type": "markdown",
   "metadata": {},
   "source": [
    "# Requesting Access\n",
    "\n",
    "Define a policy and place it here"
   ]
  }
 ],
 "metadata": {
  "language_info": {
   "name": "python"
  },
  "orig_nbformat": 4
 },
 "nbformat": 4,
 "nbformat_minor": 2
}
