{
 "cells": [
  {
   "attachments": {},
   "cell_type": "markdown",
   "metadata": {},
   "source": [
    "# Using the NCAR k8s JupyterHub"
   ]
  },
  {
   "attachments": {},
   "cell_type": "markdown",
   "metadata": {},
   "source": [
    "## Overview\n",
    "\n",
    "NCAR runs a JupyterHub instance that's hosted on a kubernetes (k8s) cluster. It currently is available inside the NCAR network so you must either be ***onsite*** or connected to the ***VPN***."
   ]
  },
  {
   "attachments": {},
   "cell_type": "markdown",
   "metadata": {},
   "source": [
    "## Access\n",
    "The [JupyterHub Login](https://jupyter.k8s.ucar.edu/) page is the portal to enter and spin up a personal and persistent Jupyter environment. \n",
    "\n",
    "Authentication is being handled via GitHub and access is given to members of the following NCAR [team](https://github.com/orgs/NCAR/teams/2i2c-cloud-users). If you do not currently have access you can request to join the GitHub team. Please provide valid justification for your use case. A member of the team will process the request and will be in contact to confirm or coordinate your access."
   ]
  }
 ],
 "metadata": {
  "language_info": {
   "name": "python"
  },
  "orig_nbformat": 4
 },
 "nbformat": 4,
 "nbformat_minor": 2
}
