{
 "cells": [
  {
   "attachments": {},
   "cell_type": "markdown",
   "metadata": {},
   "source": [
    "# Contact Us\n",
    "\n",
    "## New requests\n",
    "\n",
    "Any new request should be submitted via a [Jira Ticket](https://jira.ucar.edu/secure/CreateIssue!default.jspa). It will then follow our [Kanban workflow](../how-to/agile.ipynb). \n",
    "\n",
    "## Technical Product Owner\n",
    "\n",
    "The Product Owner (PO), currently ***[Nick Cote](mailto:ncote@ucar.edu)***, is available via email or Google Chat to discuss any other needs you may have. Interacting with key stakeholders is the primary focus of the PO. They are more than happy to work with you as the primary interface for the technical team. \n",
    "\n",
    "## Team Email address\n",
    "You can email all members of the team via ***[cisl-on-prem-cloud@ucar.edu](mailto:cisl-on-prem-cloud@ucar.edu)***\n",
    "\n",
    "## [GitHub](https://github.com/NCAR/cisl-cloud/)\n",
    "\n",
    "We have a ***private*** GitHub repository to host all of the configuration files and documentation outlined here. It is part of our internal continuous improvement process. It will be eventually opened up for more collaborative efforts."
   ]
  }
 ],
 "metadata": {
  "language_info": {
   "name": "python"
  },
  "orig_nbformat": 4
 },
 "nbformat": 4,
 "nbformat_minor": 2
}
