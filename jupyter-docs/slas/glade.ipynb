{
 "cells": [
  {
   "attachments": {},
   "cell_type": "markdown",
   "metadata": {},
   "source": [
    "# GLADE SLA's\n",
    "GLADE is part of the Advanced Research Computing (ARC) group. Their [documentation](https://arc.ucar.edu/knowledge_base/68878466) provides a lot of information about GLADE and the policies in place. \n",
    "\n",
    "## /collections\n",
    "As part of the policy defined by ARC collections does not have a user quota and is not backed up. Data is also not purged from collections. \n",
    "\n",
    "## /campaign\n",
    "As part of the policy defined by ARC campaign does not have a user quota and is not backed up. Data is also not purged from campaign. Dedicated project spaces on campaign are available through the [allocations process](https://arc.ucar.edu/knowledge_base/74317835)\n",
    "\n",
    "## GLADE Help\n",
    "Help with GLADE directly should be addressed by submitting a ticket to the [NCAR Research Computing help desk](https://rchelp.ucar.edu/).\n",
    "\n",
    "If there is an issue with accessing GLADE from the k8s JupyterHub please email [cisl-on-prem-cloud@ucar.edu](mailto:cisl-on-prem-cloud@ucar.edu) or open a ticket on the [CCPP jira project](https://jira.ucar.edu/secure/CreateIssue!default.jspa)"
   ]
  }
 ],
 "metadata": {
  "language_info": {
   "name": "python"
  },
  "orig_nbformat": 4
 },
 "nbformat": 4,
 "nbformat_minor": 2
}
