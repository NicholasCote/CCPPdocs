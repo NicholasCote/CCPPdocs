{
 "cells": [
  {
   "attachments": {},
   "cell_type": "markdown",
   "metadata": {},
   "source": [
    "<center style=\"font-size: 2.5rem;font-weight: 700;\">The site has moved <a href=\"https://ncar.github.io/cisl-cloud/\">here<a></center>"
   ]
  },
  {
   "cell_type": "markdown",
   "metadata": {},
   "source": [
    "The underlying repository now serves as a historical reference to a few different options (mkdocs, jekyll, jupyterbook) with older content. "
   ]
  },
  {
   "cell_type": "markdown",
   "metadata": {},
   "source": [
    "This site will be shut down by the end of September 2023"
   ]
  }
 ],
 "metadata": {
  "kernelspec": {
   "display_name": "Python 3",
   "language": "python",
   "name": "python3"
  },
  "language_info": {
   "codemirror_mode": {
    "name": "ipython",
    "version": 3
   },
   "file_extension": ".py",
   "mimetype": "text/x-python",
   "name": "python",
   "nbconvert_exporter": "python",
   "pygments_lexer": "ipython3",
   "version": "3.10.6"
  },
  "orig_nbformat": 4
 },
 "nbformat": 4,
 "nbformat_minor": 2
}
