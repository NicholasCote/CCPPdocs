{
 "cells": [
  {
   "attachments": {},
   "cell_type": "markdown",
   "metadata": {},
   "source": [
    "# VS Code integration"
   ]
  },
  {
   "attachments": {},
   "cell_type": "markdown",
   "metadata": {},
   "source": [
    "## Overview\n",
    "[Visual Studio Code](https://code.visualstudio.com/) (VS Code) is a free open source code editor from Microsoft that runs on Windows, Linux, and MacOS. It has a wide variety of capabilities and extensions available that make it very powerful software development tool. One of the extensions that can be installed is the [Jupyter Extension](https://marketplace.visualstudio.com/items?itemName=ms-toolsai.jupyter). This documentation will go over how to install the extension and configure VS Code to run on your local machine, while creating and executing the content on a remote JupyterHub system. "
   ]
  },
  {
   "attachments": {},
   "cell_type": "markdown",
   "metadata": {},
   "source": [
    "## Install Jupyter VS Code Extension\n"
   ]
  }
 ],
 "metadata": {
  "language_info": {
   "name": "python"
  },
  "orig_nbformat": 4
 },
 "nbformat": 4,
 "nbformat_minor": 2
}
