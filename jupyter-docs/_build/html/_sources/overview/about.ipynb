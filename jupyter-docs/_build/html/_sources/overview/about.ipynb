{
 "cells": [
  {
   "attachments": {},
   "cell_type": "markdown",
   "metadata": {},
   "source": [
    "# About this Project\n",
    "CISL is currently deploying a ***pilot*** on-premise prototype cloud environment for compute and storage.\n",
    "\n",
    "2i2c deployed a JupyterHub instance in AWS. \n",
    "We would utilize this experience to leverage 2i2c knowledge for our own education. This instance can be utilized to run calculated tests to help determine costs associated with users running on AWS. \n",
    "\n",
    "## On-premise cloud\n",
    "\n",
    "An on-premise (on-prem) cloud consists of storage, compute, and networking resources hosted on fully redundant hardware installed in personal/organizational facilities available to users \n",
    "### Kubernetes (k8s)\n",
    "We will utilize a k8s cluster to host JupyterHub. Dask will be installed to enable parallel computing. A JupyterHub Spawner will create single user environments with access to a shared and personal storage space. The Spawned user environments will come in different sizes with a GPU option. \n",
    "\n",
    "k8s can also be used to host containers or containerized virtual machines for individual use cases.\n",
    "\n",
    "### JupyterHub on k8s\n",
    "There is a JupyterHub instance hosted on-prem at NWSC on a RKE2 provisioned k8s cluster. This JupyterHub is going to have a customized Docker image that enables packages, kernels, and extensions the scientific research community utilizes to increase productivity in data analysis. The custom environment will also provide users read-only access to the campaign and collections directories on GLADE as well as a shared directory whose specific use case is still being fleshed out. Access to this JupyterHub will be handled via GitHub authentication and a team under the NCAR organization in GitHub. \n",
    "\n",
    "### Storage\n",
    "#### GLADE\n",
    "NFS will be utilized to provide RO only access to GLADE on the Spawned JupyterHub user environments. Currently the collections and campaign directories on GLADE are available as read only.  \n",
    "\n",
    "#### STRATUS\n",
    "S3 will be provided via CISLs object storage platform [STRATUS](https://arc.ucar.edu/knowledge_base/70549594). \n",
    "\n",
    "## 2i2c\n",
    "### JupyterHub\n",
    "2i2c deployed a JupyterHub instance in AWS. Access to this JupyterHub instance is provided by [GitHub Teams](https://github.com/orgs/NCAR/teams/2i2c-cloud-users). Costs will be incurred for any AWS compute resources utilized by users. At this point in time the 2i2c deployed JupyterHub will be used to validate the 2i2c notebook configuration for the research community users. These validations will be orchestrated to develop an estimate of potential costs to use at scale. \n",
    "\n",
    "### Storage\n",
    "Data Storage for the 2i2c JupyterHub instance is provided by AWS Elastic File System ([EFS](https://aws.amazon.com/efs/))\n",
    "\n",
    "## Data Access\n",
    "[AWS S3 Open Data Registry](https://registry.opendata.aws/) utilizes AWS S3 API calls the same way as STRATUS. By utilizing S3 API calls we can make Data accessible in a familiar way on the Web and on-premise. \n",
    "\n",
    "## Agile Program Management\n",
    "**[Kanban Board](https://jira.ucar.edu/secure/RapidBoard.jspa?rapidView=220&projectKey=CCPP)**\n",
    "\n",
    "This project is implementing a hybrid Agile Project Management workflow. Waterfall techniques will be used for high level project management. Kanban will be used for day to day tasks and creating a continuous flow of value to users. "
   ]
  }
 ],
 "metadata": {
  "language_info": {
   "name": "python"
  },
  "orig_nbformat": 4
 },
 "nbformat": 4,
 "nbformat_minor": 2
}
