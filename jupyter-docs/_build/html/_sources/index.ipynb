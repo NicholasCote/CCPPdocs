{
 "cells": [
  {
   "attachments": {},
   "cell_type": "markdown",
   "metadata": {},
   "source": [
    "<center><img src=\"./images/ncar-cisl-blue.png\" width=\"300\" /></center>"
   ]
  },
  {
   "attachments": {},
   "cell_type": "markdown",
   "metadata": {},
   "source": [
    "# Welcome to the CISL Cloud Pilot Project (CCPP)\n",
    "\n",
    "Follow our up to date [Kanban](https://jira.ucar.edu/secure/RapidBoard.jspa?rapidView=220&projectKey=CCPP).\n",
    "\n",
    "## ***Pilot***\n",
    "\n",
    "***This is currently a Pilot project. Determining long term feasibility is one of our objectives.*** \n",
    "\n",
    "## Vision\n",
    "\n",
    "*Provide and operate an on-premise cloud offering for the scientific community to supplement traditional HPC services and public cloud offerings while utilizing 2i2c to host a JupyterHub instance in the public cloud.*\n",
    "\n",
    "## What is an on-premise cloud?\n",
    "NCAR | CISL runs Compute, Storage & Network hardware in robust Data Centers at multiple organizational facilities. An on-premise cloud is offering users the ability to utilize those highly available organizationally supported compute resources for approved use cases. This includes access to routable network space and UCAR Domain Name Systems (DNS). Security standards set by the organization are implemented and controlled by administrators to make sure internal policies are being adhered to. These resources would be provided to supplement computing needs that aren't fulfilled by the HPC offering, public cloud, or what is available to you locally. \n",
    "\n",
    "## Goals\n",
    "* Improve understanding of how scientific community might use and benefit from an on-prem cloud\n",
    "    * Which services fit on-prem better than traditional HPC and/or public cloud\n",
    "* Gain experience within CISL deploying and operating an on-prem cloud and associated services\n",
    "* Improve CISL ability to support interactive analysis workflows in environment where data is globally distributed\n",
    "* Increase user visibility in to on-prem cloud offerings\n",
    "* Develop metrics to showcase project value & feasibility\n",
    "* Gain experience with Agile Project Management"
   ]
  }
 ],
 "metadata": {
  "kernelspec": {
   "display_name": "Python 3",
   "language": "python",
   "name": "python3"
  },
  "language_info": {
   "codemirror_mode": {
    "name": "ipython",
    "version": 3
   },
   "file_extension": ".py",
   "mimetype": "text/x-python",
   "name": "python",
   "nbconvert_exporter": "python",
   "pygments_lexer": "ipython3",
   "version": "3.10.6"
  },
  "orig_nbformat": 4
 },
 "nbformat": 4,
 "nbformat_minor": 2
}
