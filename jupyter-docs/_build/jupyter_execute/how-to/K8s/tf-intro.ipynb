{
 "cells": [
  {
   "attachments": {},
   "cell_type": "markdown",
   "metadata": {},
   "source": [
    "# Terraform on JupyterHub demo\n",
    "\n",
    "[Terraform](https://www.terraform.io/) is an open source Infrastructure as Code (IaC) technology that is used to create and manage resources on varying [providers](https://registry.terraform.io/browse/providers). \n",
    "\n",
    "## Installing Terraform locally\n",
    "\n",
    "For this demonstration Terraform has already been installed on this JupyterHub instance. In order to install Terraform on your own machines follow the instructions for your operating system [here](https://developer.hashicorp.com/terraform/downloads)."
   ]
  },
  {
   "attachments": {},
   "cell_type": "markdown",
   "metadata": {},
   "source": [
    "## Creating Terraform files\n",
    "\n",
    "Terraform utilizes a proprietary language called HashiCorp Configuration Language as the lower level syntax for [Terraform language](https://developer.hashicorp.com/terraform/language) which is used to create configuration files. \n",
    "\n",
    "### [Terraform Providers](https://registry.terraform.io/browse/providers)\n",
    "\n",
    "Terraform enables API interaction with different services via a plugin called a provider. A Terraform file is needed to configure the required provider(s) for interaction with underlying services."
   ]
  }
 ],
 "metadata": {
  "language_info": {
   "name": "python"
  }
 },
 "nbformat": 4,
 "nbformat_minor": 2
}