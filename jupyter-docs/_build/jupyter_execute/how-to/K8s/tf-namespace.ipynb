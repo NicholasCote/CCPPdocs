{
 "cells": [
  {
   "attachments": {},
   "cell_type": "markdown",
   "metadata": {
    "jp-MarkdownHeadingCollapsed": true,
    "tags": []
   },
   "source": [
    "# Example: Creating a kubernetes namespace\n",
    "\n",
    "For this demo we are going to be looking at deploying a new namespace to a kubernetes (k8s) cluster. For this we will need to utilize the Terraform [Kubernetes provider](https://registry.terraform.io/providers/hashicorp/kubernetes/latest/docs).\n",
    "\n",
    "## K8s/namespace_v1/provider.tf\n",
    "```python\n",
    "terraform {\n",
    "  required_providers {\n",
    "    # Provide the kubernetes provider version to use and where to source it from\n",
    "    # We will use the provider directly from HashiCorp, but in an air gapped environment you can provide a local source\n",
    "    kubernetes = {\n",
    "      source = \"hashicorp/kubernetes\"\n",
    "      version = \"2.20.0\"\n",
    "    }\n",
    "  }\n",
    "}\n",
    "\n",
    "provider \"kubernetes\" {\n",
    "  # Configuration options\n",
    "  # We only ask/provide a location for the kubeconfig file\n",
    "  config_path    = var.config_path\n",
    "}\n",
    "```\n",
    "\n",
    "We supplied a variable in `var.config_path` that terraform is going to look for in a variable terraform file.\n",
    "\n",
    "## K8s/namespace_v1/variables.tf\n",
    "\n",
    "The variables.tf file is where we define the different variables to use for our deployment. We can define default values to use if none are provided or ommit a default to force the user to provide a value. Enviornmental variables can also be used by appending the variable with `TF_VAR_`\n",
    "\n",
    "```python\n",
    "variable \"config_path\" {\n",
    "    description = \"Path to the kubeconfig file\"\n",
    "    type = string\n",
    "}\n",
    "\n",
    "variable \"env_label\" {\n",
    "    description = \"Pod label to specify development or production resource\"\n",
    "    type = string\n",
    "    default = \"Development\"\n",
    "\n",
    "    validation {\n",
    "      condition = contains([\"Development\", \"Production\"], var.env_label)\n",
    "      error_message = \"Valid values for the environment label are Development or Production\"\n",
    "    }\n",
    "}\n",
    "\n",
    "variable \"USER\" {\n",
    "    description = \"ENVIRONMENTAL VARIABLE: User who requested the resources\"\n",
    "    type = string\n",
    "}\n",
    "```\n",
    "\n",
    "Our top variable is `config_path` and you can see we add a description for what that variable is used for and what type it is. In this case we are looking for a string. There is no default value set as we want the user to provide a location for the correct kubeconfig file to us in deploying a new namespace. This can be provided directly to the command `terraform plan -var config_path=` or if left out terraform will prompt you for input as this variable is not optional. \n",
    "\n",
    "The next variable we provide is `env_label` to define whether this a production or a development namespace. The default if no value is provided is `Development` and we then validate that the env_label is set to either `Development` or `Production` and will not allow any other labels for environment. \n",
    "\n",
    "The final variable is `USER` and in the description you can see this is called out as an environmental variable. When the variable name is all capital letters in terraform it checks environment variables for a match that starts with `TF_VAR_` in this case we setup \n",
    "```bash\n",
    "export TF_VAR_USER=$USER\n",
    "```\n",
    "The username of whoever runs the terraform commands will be supplied in this case. If `TF_VAR_USER` is not defined it will prompt you for a value. You could also provide this variable in the `terraform plan -var USER=` command. We also define the type as a string to match the $USER type\n",
    "\n",
    "We now have enough to build a namespace resource so let's look at the resource.tf file where the actual resource is defined\n",
    "\n",
    "## K8s/namespace_v1/resource.tf\n",
    "```python\n",
    "resource \"kubernetes_namespace_v1\" \"example\" {\n",
    "  metadata {\n",
    "    labels = {\n",
    "      Env = var.env_label\n",
    "    }\n",
    "\n",
    "    name = var.USER\n",
    "  }\n",
    "}\n",
    "```\n",
    "\n",
    "There's not a lot to a namespace resource. We use the environment label defined in the variables.tf file or override it if we want to. The namespace name is also defined and for this use case we are using the local username. This can also be overridden in `terraform plan -var USER=` command"
   ]
  },
  {
   "cell_type": "markdown",
   "metadata": {},
   "source": [
    "## Create a kubernetes namespace based on the user name ($USER)\n",
    "\n",
    "If you run the next code block it should create a new namespace for you on the local k3s cluster"
   ]
  },
  {
   "cell_type": "code",
   "execution_count": null,
   "metadata": {
    "tags": []
   },
   "outputs": [],
   "source": [
    "import os\n",
    "import ipywidgets as widgets\n",
    "og_dir = os.getcwd()\n",
    "user_name = os.environ['USER']\n",
    "\n",
    "def create_k8s_namespace(ev):\n",
    "    # Check if a user directory already exists\n",
    "    dir_pres = os.path.exists(og_dir + \"/K8s/namespace_v1/\" + user_name)\n",
    "    if dir_pres:\n",
    "        # We don't need to create it if it does exist\n",
    "        pass\n",
    "    else:\n",
    "        # We create it if it does not exist\n",
    "        os.mkdir(og_dir + \"/K8s/namespace_v1/\" + user_name)\n",
    "    # Copy required terraform files to user directory\n",
    "    !cp K8s/namespace_v1/*.tf K8s/namespace_v1/{user_name}/\n",
    "    # Change directory to the namespace_v1 directory\n",
    "    %cd {og_dir}/K8s/namespace_v1/{user_name}\n",
    "    with output\n",
    "        # Initialize terraform and load the required providers\n",
    "        !terraform init\n",
    "        # Create the terraform plan and review the changes that are going to be made.\n",
    "        # Also will prompt you for any undefined but required variables, config_path is provided for a k3s cluster.\n",
    "        !terraform plan -var config_path=\"/etc/rancher/k3s/k3s.yaml\" -var USER={user_name} -out {user_name}.tfplan\n",
    "        # Apply the terraform plan and create the resources\n",
    "        !terraform apply {user_name}.tfplan\n",
    "        !kubectl get namespace --kubeconfig='/etc/rancher/k3s/k3s.yaml'\n",
    "    # Change back to the original directory\n",
    "    %cd {og_dir}\n",
    "    \n",
    "button = widgets.Button(description=\"Create my namespace\")\n",
    "output = widgets.Output()\n",
    "button.on_click(create_k8s_namespace)\n",
    "display(button, output)"
   ]
  },
  {
   "cell_type": "markdown",
   "metadata": {},
   "source": [
    "Our new namespace is now part of the k8s cluster\n",
    "\n",
    "## Delete the kubernetes namespace tied to the user name ($USER)\n",
    "\n",
    "If you run the next code block it should delete the namespace tied to the user name who created it. "
   ]
  },
  {
   "cell_type": "code",
   "execution_count": null,
   "metadata": {
    "tags": []
   },
   "outputs": [],
   "source": [
    "####################################\n",
    "# THIS WILL DESTROY YOUR NAMESPACE #\n",
    "####################################\n",
    "# Change directory to the namespace_v1/$USER directory\n",
    "%cd K8s\n",
    "%cd namespace_v1\n",
    "%cd {os.environ['USER']}\n",
    "# Destroy the namespace resources on provided kubeconfig cluster. \n",
    "!terraform destroy -auto-approve -var config_path=\"/etc/rancher/k3s/k3s.yaml\"\n",
    "# Change back to the original directory\n",
    "%cd ..\n",
    "%cd ..\n",
    "%cd ..\n",
    "!kubectl get namespace --kubeconfig='/etc/rancher/k3s/k3s.yaml'"
   ]
  },
  {
   "cell_type": "code",
   "execution_count": null,
   "metadata": {},
   "outputs": [],
   "source": []
  }
 ],
 "metadata": {
  "kernelspec": {
   "display_name": "Python 3 (ipykernel)",
   "language": "python",
   "name": "python3"
  },
  "language_info": {
   "codemirror_mode": {
    "name": "ipython",
    "version": 3
   },
   "file_extension": ".py",
   "mimetype": "text/x-python",
   "name": "python",
   "nbconvert_exporter": "python",
   "pygments_lexer": "ipython3",
   "version": "3.10.6"
  }
 },
 "nbformat": 4,
 "nbformat_minor": 4
}