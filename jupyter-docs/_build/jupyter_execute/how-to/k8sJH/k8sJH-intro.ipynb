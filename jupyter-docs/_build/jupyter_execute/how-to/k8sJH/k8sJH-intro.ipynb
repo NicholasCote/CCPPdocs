{
 "cells": [
  {
   "attachments": {},
   "cell_type": "markdown",
   "metadata": {},
   "source": [
    "# Using the NCAR k8s JupyterHub\n",
    "\n",
    "NCAR runs a JupyterHub instance that's hosted on a kubernetes (k8s) cluster. It currently is available inside the NCAR network so you must either be onsite or connected to the VPN.\n",
    "\n",
    "\n",
    "Authentication is being handled via GitHub and access is given to members of the following NCAR [team](https://github.com/orgs/NCAR/teams/2i2c-cloud-users)\n",
    "\n",
    "[JupyterHub Login](https://jupyter.k8s.ucar.edu/)"
   ]
  }
 ],
 "metadata": {
  "language_info": {
   "name": "python"
  }
 },
 "nbformat": 4,
 "nbformat_minor": 2
}