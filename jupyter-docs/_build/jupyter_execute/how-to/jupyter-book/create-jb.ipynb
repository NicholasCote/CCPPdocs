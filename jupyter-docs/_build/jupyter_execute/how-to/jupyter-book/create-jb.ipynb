{
 "cells": [
  {
   "attachments": {},
   "cell_type": "markdown",
   "metadata": {},
   "source": [
    "# Create Documentation"
   ]
  },
  {
   "attachments": {},
   "cell_type": "markdown",
   "metadata": {},
   "source": [
    "## Getting Started\n",
    "\n",
    "This Documentation site was built with [Jupyter Book](https://jupyterbook.org/en/stable/intro.html) and utilizes the [Sphinx Pythia Theme](https://sphinx-pythia-theme.readthedocs.io/en/latest/about.html).\n",
    "\n",
    "### Clone the GitHub repository\n",
    "\n",
    "In order to do development on the site the GitHub repository should be cloned to the users local machine. *All changes and improvements should be coded and tested locally before being pushed back up to the repository.*"
   ]
  },
  {
   "cell_type": "code",
   "execution_count": null,
   "metadata": {
    "vscode": {
     "languageId": "plaintext"
    }
   },
   "outputs": [],
   "source": [
    "git clone https://github.com/NicholasCote/CCPPdocs.git\n",
    "# Change directory to the Jupyter Book base\n",
    "cd jupyter-docs"
   ]
  },
  {
   "attachments": {},
   "cell_type": "markdown",
   "metadata": {},
   "source": [
    "### Build the HTML files\n",
    "\n",
    "Jupyter Book documentation is laid out with iPython Notebooks and YAML files. There are other allowed types, but for this project those are the two main file types. Jupyter Book provides a method to create all the associated HTML content with the following CLI command:"
   ]
  },
  {
   "cell_type": "code",
   "execution_count": null,
   "metadata": {
    "vscode": {
     "languageId": "plaintext"
    }
   },
   "outputs": [],
   "source": [
    "jupyter-book build ."
   ]
  },
  {
   "attachments": {},
   "cell_type": "markdown",
   "metadata": {},
   "source": [
    "If there are any errors during the build process they will be part of the output from the build command. *Please address any errors before continuing development.*\n",
    "\n",
    "The build process creates a new directory named '_build' in the current workspace. In the _build directory is an HTML directory that contains all the content needed to host this as a static webpage."
   ]
  },
  {
   "attachments": {},
   "cell_type": "markdown",
   "metadata": {},
   "source": [
    "### Testing locally\n",
    "\n",
    "Once the HTML files are built and placed in the _build directory the site can be launched and explored for testing purposes prior to merging changes in to the code repository. This can be accomplished by directing your browser to the files locally. In Linux this can be accomplished via the command line, as long as firefox is installed, with the following:"
   ]
  },
  {
   "cell_type": "code",
   "execution_count": null,
   "metadata": {
    "vscode": {
     "languageId": "plaintext"
    }
   },
   "outputs": [],
   "source": [
    "firefox _build/html/index.html"
   ]
  },
  {
   "attachments": {},
   "cell_type": "markdown",
   "metadata": {},
   "source": [
    "This can also be accomplished by pasting the full path to the index.html file directly into the browser window. For example the following works via Chrome on a Windows system when the files are hosted on Windows Subsystem for Linux: `file://wsl.localhost/Ubuntu/home/ncote/Code/CCPPdocs/jupyter-docs/_build/html/index.html`"
   ]
  }
 ],
 "metadata": {
  "language_info": {
   "name": "python"
  }
 },
 "nbformat": 4,
 "nbformat_minor": 2
}