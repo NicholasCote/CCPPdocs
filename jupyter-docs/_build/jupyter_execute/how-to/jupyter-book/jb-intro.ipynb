{
 "cells": [
  {
   "attachments": {},
   "cell_type": "markdown",
   "metadata": {},
   "source": [
    "# Jupyter Book\n",
    "\n",
    "Jupyter Book is an open-source tool for building publication-quality books and documents from computational material.\n",
    "\n",
    "Jupyter Book allows users to\n",
    "\n",
    "* write their content in markdown files or Jupyter notebooks,\n",
    "* include computational elements (e.g., code cells) in either type,\n",
    "* include rich syntax such as citations, cross-references, and numbered equations, and\n",
    "* using a simple command, run the embedded code cells, cache the outputs and convert this content into:\n",
    "    * a web-based interactive book and\n",
    "    * a publication-quality PDF."
   ]
  }
 ],
 "metadata": {
  "language_info": {
   "name": "python"
  }
 },
 "nbformat": 4,
 "nbformat_minor": 2
}